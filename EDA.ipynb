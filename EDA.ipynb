{
 "cells": [
  {
   "cell_type": "code",
   "execution_count": 31,
   "id": "d8a9bad2-05c8-4ab5-a58e-8176e1b02a6e",
   "metadata": {
    "tags": []
   },
   "outputs": [],
   "source": [
    "# EDA"
   ]
  },
  {
   "cell_type": "code",
   "execution_count": 32,
   "id": "9bf3be2d-a6eb-41e0-a6d5-b7d0b14be6ab",
   "metadata": {
    "tags": []
   },
   "outputs": [],
   "source": [
    "import pandas as pd"
   ]
  },
  {
   "cell_type": "code",
   "execution_count": 37,
   "id": "e081b9a9-36d1-435f-acf2-dbeaaec03ee3",
   "metadata": {
    "tags": []
   },
   "outputs": [],
   "source": [
    "df_cleaned = pd.read_csv('data/current-healthcare-facility-listing_cleaned.csv')"
   ]
  },
  {
   "cell_type": "code",
   "execution_count": 38,
   "id": "10ad184f-5eec-403a-a783-4531e51ab1c0",
   "metadata": {
    "tags": []
   },
   "outputs": [
    {
     "name": "stdout",
     "output_type": "stream",
     "text": [
      "Unnamed: 0---------------> 0\n",
      "OSHPD_ID-----------------> 106010042\n",
      "FACILITY_NAME------------> JOHN GEORGE PSYCHIATRIC HOSPITAL\n",
      "LICENSE_NUM--------------> 140000046\n",
      "FACILITY_LEVEL_DESC------> Distinct Part Facility\n",
      "DBA_ADDRESS1-------------> 2060 FAIRMONT DRIVE\n",
      "DBA_CITY-----------------> SAN LEANDRO\n",
      "DBA_ZIP_CODE-------------> 94578\n",
      "COUNTY_CODE--------------> 1\n",
      "COUNTY_NAME--------------> Alameda\n",
      "FACILITY_STATUS_DESC-----> Open\n",
      "FACILITY_STATUS_DATE-----> 2022-11-01\n",
      "LICENSE_TYPE_DESC--------> Hospital\n",
      "LICENSE_CATEGORY_DESC----> General Acute Care Hospital\n",
      "LATITUDE-----------------> 37.7105527\n",
      "LONGITUDE----------------> -122.1202563\n"
     ]
    }
   ],
   "source": [
    "for column in df_cleaned.columns:\n",
    "    print (f'{column}{\"-\"*(25-len(column))}> {df_cleaned[column][0]}')"
   ]
  },
  {
   "cell_type": "raw",
   "id": "f6e0d481-617e-4bd7-a05a-03a6488d6edf",
   "metadata": {},
   "source": [
    "Columns that hold features which vary and can be points in interested.\n",
    "\n",
    "- FACILITY_LEVEL_DESC\n",
    "- DBA_CITY\n",
    "- COUNTY_NAME\n",
    "- FACILITY_STATUS_DESC\n",
    "- LICENSE_TYPE_DESC\n",
    "- LICENSE_CATEGORY_DESC"
   ]
  },
  {
   "cell_type": "code",
   "execution_count": 39,
   "id": "bc788617-6264-4800-9574-213af1cc5bc8",
   "metadata": {
    "tags": []
   },
   "outputs": [],
   "source": [
    "columns_of_interest = ['FACILITY_LEVEL_DESC','DBA_CITY','COUNTY_NAME','FACILITY_STATUS_DESC','LICENSE_TYPE_DESC','LICENSE_CATEGORY_DESC']"
   ]
  },
  {
   "cell_type": "code",
   "execution_count": 40,
   "id": "aff89b74-a703-4b3e-a41e-d98633ddb937",
   "metadata": {
    "tags": []
   },
   "outputs": [
    {
     "name": "stdout",
     "output_type": "stream",
     "text": [
      "------------FACILITY_LEVEL_DESC------------\n",
      "FACILITY_LEVEL_DESC\n",
      "Parent Facility           10350\n",
      "Branch                      121\n",
      "Consolidated Facility        58\n",
      "Distinct Part Facility       36\n",
      "Name: count, dtype: int64\n",
      "------------DBA_CITY------------\n",
      "DBA_CITY\n",
      "VAN NUYS           555\n",
      "LOS ANGELES        544\n",
      "GLENDALE           462\n",
      "BURBANK            260\n",
      "Van Nuys           246\n",
      "                  ... \n",
      "Hollister            1\n",
      "North Highlands      1\n",
      "ANZA                 1\n",
      "Anza                 1\n",
      "SUISUN CITY          1\n",
      "Name: count, Length: 911, dtype: int64\n",
      "------------COUNTY_NAME------------\n",
      "COUNTY_NAME\n",
      "Los Angeles        5729\n",
      "Orange              539\n",
      "San Bernardino      531\n",
      "San Diego           461\n",
      "Alameda             342\n",
      "Riverside           338\n",
      "Ventura             264\n",
      "Sacramento          234\n",
      "Santa Clara         207\n",
      "Fresno              193\n",
      "Kern                155\n",
      "Contra Costa        155\n",
      "San Joaquin         110\n",
      "San Francisco       100\n",
      "San Mateo            97\n",
      "Stanislaus           92\n",
      "Tulare               79\n",
      "Santa Barbara        78\n",
      "Sonoma               76\n",
      "Monterey             68\n",
      "San Luis Obispo      65\n",
      "Solano               60\n",
      "Marin                46\n",
      "Placer               45\n",
      "Merced               45\n",
      "Butte                44\n",
      "Shasta               41\n",
      "Humboldt             34\n",
      "Mendocino            26\n",
      "Santa Cruz           26\n",
      "Madera               24\n",
      "Imperial             24\n",
      "Yolo                 23\n",
      "Napa                 22\n",
      "Sutter               22\n",
      "Kings                18\n",
      "El Dorado            17\n",
      "Lake                 16\n",
      "Nevada               16\n",
      "Siskiyou             12\n",
      "Tuolumne             11\n",
      "Yuba                 10\n",
      "Tehama                9\n",
      "Del Norte             8\n",
      "Colusa                6\n",
      "Lassen                6\n",
      "Inyo                  5\n",
      "Calaveras             5\n",
      "Glenn                 5\n",
      "San Benito            5\n",
      "Amador                5\n",
      "Mariposa              5\n",
      "Plumas                4\n",
      "Trinity               2\n",
      "Modoc                 2\n",
      "Sierra                2\n",
      "Mono                  1\n",
      "Name: count, dtype: int64\n",
      "------------FACILITY_STATUS_DESC------------\n",
      "FACILITY_STATUS_DESC\n",
      "Open        10544\n",
      "Suspense       18\n",
      "Closed          3\n",
      "Name: count, dtype: int64\n",
      "------------LICENSE_TYPE_DESC------------\n",
      "LICENSE_TYPE_DESC\n",
      "Home Health Agency/Hospice    6648\n",
      "Clinic                        2011\n",
      "Long Term Care Facility       1369\n",
      "Hospital                       537\n",
      "Name: count, dtype: int64\n",
      "------------LICENSE_CATEGORY_DESC------------\n",
      "LICENSE_CATEGORY_DESC\n",
      "Home Health Agency                   3830\n",
      "Hospice                              2818\n",
      "Community Clinic                     1241\n",
      "Skilled Nursing Facility             1083\n",
      "Chronic Dialysis Clinic               654\n",
      "General Acute Care Hospital           456\n",
      "Congregate Living Health Facility     262\n",
      "Free Clinic                            46\n",
      "Acute Psychiatric Hospital             40\n",
      "Psychiatric Health Facility            34\n",
      "Surgical Clinic                        34\n",
      "Psychology Clinic                      17\n",
      "Hospice Facility                       15\n",
      "Rehabilitation Clinic                  11\n",
      "ICF/Dev. Disabled                       9\n",
      "Alternative Birthing Center             8\n",
      "Chemical Dep. Recovery Hospital         7\n",
      "Name: count, dtype: int64\n"
     ]
    }
   ],
   "source": [
    "for column in columns_of_interest:\n",
    "    print(f'------------{column}------------')\n",
    "    print(df_cleaned[column].value_counts())"
   ]
  },
  {
   "cell_type": "code",
   "execution_count": null,
   "id": "f86cfdc7-f520-4a64-bb5e-ce8c9e5f6405",
   "metadata": {},
   "outputs": [],
   "source": []
  },
  {
   "cell_type": "code",
   "execution_count": 41,
   "id": "348815f6-6502-478f-a98e-aceea9049c8e",
   "metadata": {
    "tags": []
   },
   "outputs": [],
   "source": [
    "# Merge population data"
   ]
  },
  {
   "cell_type": "code",
   "execution_count": 112,
   "id": "bb6d7b11-d632-4447-8520-b815b5e8b392",
   "metadata": {
    "tags": []
   },
   "outputs": [],
   "source": [
    "df_pop = pd.read_csv('data/california_county_pop.csv', names = ['county','population'], header = 0)"
   ]
  },
  {
   "cell_type": "code",
   "execution_count": 113,
   "id": "b14532f8-154f-428a-97d1-731d42bcbf90",
   "metadata": {
    "tags": []
   },
   "outputs": [],
   "source": [
    "df_cleaned.COUNTY_NAME = df_cleaned.COUNTY_NAME.str.lower().str.strip()\n",
    "df_pop.county = df_pop.county.str.lower().str.strip()"
   ]
  },
  {
   "cell_type": "code",
   "execution_count": 114,
   "id": "60dfe620-fe47-41e9-bdbd-8ea6e0b47922",
   "metadata": {
    "tags": []
   },
   "outputs": [
    {
     "data": {
      "text/plain": [
       "0"
      ]
     },
     "execution_count": 114,
     "metadata": {},
     "output_type": "execute_result"
    }
   ],
   "source": [
    "((df_pop.county == 'almedia')*1).sum()"
   ]
  },
  {
   "cell_type": "code",
   "execution_count": 115,
   "id": "2095f03c-6183-4999-be8e-7af06d0640be",
   "metadata": {
    "tags": []
   },
   "outputs": [],
   "source": [
    "df_merged = pd.merge(\n",
    "    df_cleaned, \n",
    "    df_pop, \n",
    "    how=\"left\", \n",
    "    left_on=\"COUNTY_NAME\", \n",
    "    right_on=\"county\"\n",
    ")\n"
   ]
  },
  {
   "cell_type": "code",
   "execution_count": 117,
   "id": "bce28f17-2d6f-4ce6-abd0-a2c547291a2b",
   "metadata": {},
   "outputs": [
    {
     "data": {
      "text/plain": [
       "Series([], Name: count, dtype: int64)"
      ]
     },
     "execution_count": 117,
     "metadata": {},
     "output_type": "execute_result"
    }
   ],
   "source": [
    "# check if merge worked\n",
    "df_merged[df_merged['county'].isna()]['COUNTY_NAME'].value_counts()"
   ]
  },
  {
   "cell_type": "code",
   "execution_count": 124,
   "id": "759d8a9c-0c21-416d-8b4a-2b760e086741",
   "metadata": {
    "tags": []
   },
   "outputs": [
    {
     "data": {
      "text/html": [
       "<div>\n",
       "<style scoped>\n",
       "    .dataframe tbody tr th:only-of-type {\n",
       "        vertical-align: middle;\n",
       "    }\n",
       "\n",
       "    .dataframe tbody tr th {\n",
       "        vertical-align: top;\n",
       "    }\n",
       "\n",
       "    .dataframe thead th {\n",
       "        text-align: right;\n",
       "    }\n",
       "</style>\n",
       "<table border=\"1\" class=\"dataframe\">\n",
       "  <thead>\n",
       "    <tr style=\"text-align: right;\">\n",
       "      <th></th>\n",
       "      <th>Unnamed: 0</th>\n",
       "      <th>OSHPD_ID</th>\n",
       "      <th>FACILITY_NAME</th>\n",
       "      <th>LICENSE_NUM</th>\n",
       "      <th>FACILITY_LEVEL_DESC</th>\n",
       "      <th>DBA_ADDRESS1</th>\n",
       "      <th>DBA_CITY</th>\n",
       "      <th>DBA_ZIP_CODE</th>\n",
       "      <th>COUNTY_CODE</th>\n",
       "      <th>COUNTY_NAME</th>\n",
       "      <th>FACILITY_STATUS_DESC</th>\n",
       "      <th>FACILITY_STATUS_DATE</th>\n",
       "      <th>LICENSE_TYPE_DESC</th>\n",
       "      <th>LICENSE_CATEGORY_DESC</th>\n",
       "      <th>LATITUDE</th>\n",
       "      <th>LONGITUDE</th>\n",
       "      <th>county</th>\n",
       "      <th>population</th>\n",
       "    </tr>\n",
       "  </thead>\n",
       "  <tbody>\n",
       "    <tr>\n",
       "      <th>0</th>\n",
       "      <td>0</td>\n",
       "      <td>106010042</td>\n",
       "      <td>JOHN GEORGE PSYCHIATRIC HOSPITAL</td>\n",
       "      <td>140000046</td>\n",
       "      <td>Distinct Part Facility</td>\n",
       "      <td>2060 FAIRMONT DRIVE</td>\n",
       "      <td>SAN LEANDRO</td>\n",
       "      <td>94578</td>\n",
       "      <td>1</td>\n",
       "      <td>alameda</td>\n",
       "      <td>Open</td>\n",
       "      <td>2022-11-01</td>\n",
       "      <td>Hospital</td>\n",
       "      <td>General Acute Care Hospital</td>\n",
       "      <td>37.710553</td>\n",
       "      <td>-122.120256</td>\n",
       "      <td>alameda</td>\n",
       "      <td>1,641,869</td>\n",
       "    </tr>\n",
       "    <tr>\n",
       "      <th>1</th>\n",
       "      <td>1</td>\n",
       "      <td>106010735</td>\n",
       "      <td>ALAMEDA HOSPITAL</td>\n",
       "      <td>140000002</td>\n",
       "      <td>Parent Facility</td>\n",
       "      <td>2070 CLINTON AVE</td>\n",
       "      <td>ALAMEDA</td>\n",
       "      <td>94501</td>\n",
       "      <td>1</td>\n",
       "      <td>alameda</td>\n",
       "      <td>Open</td>\n",
       "      <td>1946-01-01</td>\n",
       "      <td>Hospital</td>\n",
       "      <td>General Acute Care Hospital</td>\n",
       "      <td>37.762680</td>\n",
       "      <td>-122.254106</td>\n",
       "      <td>alameda</td>\n",
       "      <td>1,641,869</td>\n",
       "    </tr>\n",
       "    <tr>\n",
       "      <th>2</th>\n",
       "      <td>2</td>\n",
       "      <td>106010739</td>\n",
       "      <td>ALTA BATES SUMMIT MEDICAL CENTER-ALTA BATES CA...</td>\n",
       "      <td>140000004</td>\n",
       "      <td>Parent Facility</td>\n",
       "      <td>2450 ASHBY AVENUE</td>\n",
       "      <td>BERKELEY</td>\n",
       "      <td>94705</td>\n",
       "      <td>1</td>\n",
       "      <td>alameda</td>\n",
       "      <td>Open</td>\n",
       "      <td>1946-01-02</td>\n",
       "      <td>Hospital</td>\n",
       "      <td>General Acute Care Hospital</td>\n",
       "      <td>37.855628</td>\n",
       "      <td>-122.257501</td>\n",
       "      <td>alameda</td>\n",
       "      <td>1,641,869</td>\n",
       "    </tr>\n",
       "    <tr>\n",
       "      <th>3</th>\n",
       "      <td>3</td>\n",
       "      <td>106010776</td>\n",
       "      <td>UCSF BENIOFF CHILDREN'S HOSPITAL OAKLAND</td>\n",
       "      <td>140000015</td>\n",
       "      <td>Parent Facility</td>\n",
       "      <td>747 52ND STREET</td>\n",
       "      <td>OAKLAND</td>\n",
       "      <td>94609</td>\n",
       "      <td>1</td>\n",
       "      <td>alameda</td>\n",
       "      <td>Open</td>\n",
       "      <td>1946-01-01</td>\n",
       "      <td>Hospital</td>\n",
       "      <td>General Acute Care Hospital</td>\n",
       "      <td>37.836938</td>\n",
       "      <td>-122.267231</td>\n",
       "      <td>alameda</td>\n",
       "      <td>1,641,869</td>\n",
       "    </tr>\n",
       "    <tr>\n",
       "      <th>4</th>\n",
       "      <td>4</td>\n",
       "      <td>106010811</td>\n",
       "      <td>FAIRMONT HOSPITAL</td>\n",
       "      <td>140000046</td>\n",
       "      <td>Consolidated Facility</td>\n",
       "      <td>15400 FOOTHILL BOULEVARD</td>\n",
       "      <td>SAN LEANDRO</td>\n",
       "      <td>94578</td>\n",
       "      <td>1</td>\n",
       "      <td>alameda</td>\n",
       "      <td>Open</td>\n",
       "      <td>1953-07-01</td>\n",
       "      <td>Hospital</td>\n",
       "      <td>General Acute Care Hospital</td>\n",
       "      <td>37.708168</td>\n",
       "      <td>-122.119823</td>\n",
       "      <td>alameda</td>\n",
       "      <td>1,641,869</td>\n",
       "    </tr>\n",
       "  </tbody>\n",
       "</table>\n",
       "</div>"
      ],
      "text/plain": [
       "   Unnamed: 0   OSHPD_ID                                      FACILITY_NAME  \\\n",
       "0           0  106010042                   JOHN GEORGE PSYCHIATRIC HOSPITAL   \n",
       "1           1  106010735                                   ALAMEDA HOSPITAL   \n",
       "2           2  106010739  ALTA BATES SUMMIT MEDICAL CENTER-ALTA BATES CA...   \n",
       "3           3  106010776           UCSF BENIOFF CHILDREN'S HOSPITAL OAKLAND   \n",
       "4           4  106010811                                  FAIRMONT HOSPITAL   \n",
       "\n",
       "  LICENSE_NUM     FACILITY_LEVEL_DESC              DBA_ADDRESS1     DBA_CITY  \\\n",
       "0   140000046  Distinct Part Facility       2060 FAIRMONT DRIVE  SAN LEANDRO   \n",
       "1   140000002         Parent Facility          2070 CLINTON AVE      ALAMEDA   \n",
       "2   140000004         Parent Facility         2450 ASHBY AVENUE     BERKELEY   \n",
       "3   140000015         Parent Facility           747 52ND STREET      OAKLAND   \n",
       "4   140000046   Consolidated Facility  15400 FOOTHILL BOULEVARD  SAN LEANDRO   \n",
       "\n",
       "   DBA_ZIP_CODE  COUNTY_CODE COUNTY_NAME FACILITY_STATUS_DESC  \\\n",
       "0         94578            1     alameda                 Open   \n",
       "1         94501            1     alameda                 Open   \n",
       "2         94705            1     alameda                 Open   \n",
       "3         94609            1     alameda                 Open   \n",
       "4         94578            1     alameda                 Open   \n",
       "\n",
       "  FACILITY_STATUS_DATE LICENSE_TYPE_DESC        LICENSE_CATEGORY_DESC  \\\n",
       "0           2022-11-01          Hospital  General Acute Care Hospital   \n",
       "1           1946-01-01          Hospital  General Acute Care Hospital   \n",
       "2           1946-01-02          Hospital  General Acute Care Hospital   \n",
       "3           1946-01-01          Hospital  General Acute Care Hospital   \n",
       "4           1953-07-01          Hospital  General Acute Care Hospital   \n",
       "\n",
       "    LATITUDE   LONGITUDE   county   population  \n",
       "0  37.710553 -122.120256  alameda   1,641,869   \n",
       "1  37.762680 -122.254106  alameda   1,641,869   \n",
       "2  37.855628 -122.257501  alameda   1,641,869   \n",
       "3  37.836938 -122.267231  alameda   1,641,869   \n",
       "4  37.708168 -122.119823  alameda   1,641,869   "
      ]
     },
     "execution_count": 124,
     "metadata": {},
     "output_type": "execute_result"
    }
   ],
   "source": [
    "df_merged.head()"
   ]
  }
 ],
 "metadata": {
  "kernelspec": {
   "display_name": "Python 3 (ipykernel)",
   "language": "python",
   "name": "python3"
  },
  "language_info": {
   "codemirror_mode": {
    "name": "ipython",
    "version": 3
   },
   "file_extension": ".py",
   "mimetype": "text/x-python",
   "name": "python",
   "nbconvert_exporter": "python",
   "pygments_lexer": "ipython3",
   "version": "3.11.5"
  }
 },
 "nbformat": 4,
 "nbformat_minor": 5
}
