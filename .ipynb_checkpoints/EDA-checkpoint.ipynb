{
 "cells": [
  {
   "cell_type": "code",
   "execution_count": 4,
   "id": "d8a9bad2-05c8-4ab5-a58e-8176e1b02a6e",
   "metadata": {
    "tags": []
   },
   "outputs": [],
   "source": [
    "# EDA"
   ]
  },
  {
   "cell_type": "code",
   "execution_count": 5,
   "id": "9bf3be2d-a6eb-41e0-a6d5-b7d0b14be6ab",
   "metadata": {
    "tags": []
   },
   "outputs": [],
   "source": [
    "import pandas as pd"
   ]
  },
  {
   "cell_type": "code",
   "execution_count": 6,
   "id": "e081b9a9-36d1-435f-acf2-dbeaaec03ee3",
   "metadata": {
    "tags": []
   },
   "outputs": [],
   "source": [
    "df_cleaned = pd.read_csv('data/current-healthcare-facility-listing.csv')"
   ]
  },
  {
   "cell_type": "code",
   "execution_count": 25,
   "id": "10ad184f-5eec-403a-a783-4531e51ab1c0",
   "metadata": {
    "tags": []
   },
   "outputs": [
    {
     "name": "stdout",
     "output_type": "stream",
     "text": [
      "OSHPD_ID-----------------> 106010042\n",
      "FACILITY_NAME------------> JOHN GEORGE PSYCHIATRIC HOSPITAL\n",
      "LICENSE_NUM--------------> 140000046\n",
      "FACILITY_LEVEL_DESC------> Distinct Part Facility\n",
      "DBA_ADDRESS1-------------> 2060 FAIRMONT DRIVE\n",
      "DBA_CITY-----------------> SAN LEANDRO\n",
      "DBA_ZIP_CODE-------------> 94578\n",
      "COUNTY_CODE--------------> 1\n",
      "COUNTY_NAME--------------> Alameda\n",
      "ER_SERVICE_LEVEL_DESC----> nan\n",
      "TOTAL_NUMBER_BEDS--------> 80\n",
      "FACILITY_STATUS_DESC-----> Open\n",
      "FACILITY_STATUS_DATE-----> 2022-11-01\n",
      "LICENSE_TYPE_DESC--------> Hospital\n",
      "LICENSE_CATEGORY_DESC----> General Acute Care Hospital\n",
      "LATITUDE-----------------> 37.7105527\n",
      "LONGITUDE----------------> -122.1202563\n"
     ]
    }
   ],
   "source": [
    "for column in df_cleaned.columns:\n",
    "    print (f'{column}{\"-\"*(25-len(column))}> {df_cleaned[column][0]}')"
   ]
  },
  {
   "cell_type": "raw",
   "id": "f6e0d481-617e-4bd7-a05a-03a6488d6edf",
   "metadata": {},
   "source": [
    "Columns that hold features which vary and can be points in interested.\n",
    "\n",
    "- FACILITY_LEVEL_DESC\n",
    "- DBA_CITY\n",
    "- COUNTY_NAME\n",
    "- FACILITY_STATUS_DESC\n",
    "- LICENSE_TYPE_DESC\n",
    "- LICENSE_CATEGORY_DESC"
   ]
  },
  {
   "cell_type": "code",
   "execution_count": 26,
   "id": "bc788617-6264-4800-9574-213af1cc5bc8",
   "metadata": {
    "tags": []
   },
   "outputs": [],
   "source": [
    "columns_of_interest = ['FACILITY_LEVEL_DESC','DBA_CITY','COUNTY_NAME','FACILITY_STATUS_DESC','LICENSE_TYPE_DESC','LICENSE_CATEGORY_DESC']"
   ]
  },
  {
   "cell_type": "code",
   "execution_count": 30,
   "id": "aff89b74-a703-4b3e-a41e-d98633ddb937",
   "metadata": {
    "tags": []
   },
   "outputs": [
    {
     "name": "stdout",
     "output_type": "stream",
     "text": [
      "------------FACILITY_LEVEL_DESC------------\n",
      "FACILITY_LEVEL_DESC\n",
      "Parent Facility           10350\n",
      "Branch                      121\n",
      "Consolidated Facility        58\n",
      "Distinct Part Facility       36\n",
      "Name: count, dtype: int64\n",
      "------------DBA_CITY------------\n",
      "DBA_CITY\n",
      "VAN NUYS           555\n",
      "LOS ANGELES        544\n",
      "GLENDALE           462\n",
      "BURBANK            260\n",
      "Van Nuys           246\n",
      "                  ... \n",
      "Hollister            1\n",
      "North Highlands      1\n",
      "ANZA                 1\n",
      "Anza                 1\n",
      "SUISUN CITY          1\n",
      "Name: count, Length: 911, dtype: int64\n",
      "------------COUNTY_NAME------------\n",
      "COUNTY_NAME\n",
      "Los Angeles        5729\n",
      "Orange              539\n",
      "San Bernardino      531\n",
      "San Diego           461\n",
      "Alameda             342\n",
      "Riverside           338\n",
      "Ventura             264\n",
      "Sacramento          234\n",
      "Santa Clara         207\n",
      "Fresno              193\n",
      "Kern                155\n",
      "Contra Costa        155\n",
      "San Joaquin         110\n",
      "San Francisco       100\n",
      "San Mateo            97\n",
      "Stanislaus           92\n",
      "Tulare               79\n",
      "Santa Barbara        78\n",
      "Sonoma               76\n",
      "Monterey             68\n",
      "San Luis Obispo      65\n",
      "Solano               60\n",
      "Marin                46\n",
      "Placer               45\n",
      "Merced               45\n",
      "Butte                44\n",
      "Shasta               41\n",
      "Humboldt             34\n",
      "Mendocino            26\n",
      "Santa Cruz           26\n",
      "Madera               24\n",
      "Imperial             24\n",
      "Yolo                 23\n",
      "Napa                 22\n",
      "Sutter               22\n",
      "Kings                18\n",
      "El Dorado            17\n",
      "Lake                 16\n",
      "Nevada               16\n",
      "Siskiyou             12\n",
      "Tuolumne             11\n",
      "Yuba                 10\n",
      "Tehama                9\n",
      "Del Norte             8\n",
      "Colusa                6\n",
      "Lassen                6\n",
      "Inyo                  5\n",
      "Calaveras             5\n",
      "Glenn                 5\n",
      "San Benito            5\n",
      "Amador                5\n",
      "Mariposa              5\n",
      "Plumas                4\n",
      "Trinity               2\n",
      "Modoc                 2\n",
      "Sierra                2\n",
      "Mono                  1\n",
      "Name: count, dtype: int64\n",
      "------------FACILITY_STATUS_DESC------------\n",
      "FACILITY_STATUS_DESC\n",
      "Open        10544\n",
      "Suspense       18\n",
      "Closed          3\n",
      "Name: count, dtype: int64\n",
      "------------LICENSE_TYPE_DESC------------\n",
      "LICENSE_TYPE_DESC\n",
      "Home Health Agency/Hospice    6648\n",
      "Clinic                        2011\n",
      "Long Term Care Facility       1369\n",
      "Hospital                       537\n",
      "Name: count, dtype: int64\n",
      "------------LICENSE_CATEGORY_DESC------------\n",
      "LICENSE_CATEGORY_DESC\n",
      "Home Health Agency                   3830\n",
      "Hospice                              2818\n",
      "Community Clinic                     1241\n",
      "Skilled Nursing Facility             1083\n",
      "Chronic Dialysis Clinic               654\n",
      "General Acute Care Hospital           456\n",
      "Congregate Living Health Facility     262\n",
      "Free Clinic                            46\n",
      "Acute Psychiatric Hospital             40\n",
      "Psychiatric Health Facility            34\n",
      "Surgical Clinic                        34\n",
      "Psychology Clinic                      17\n",
      "Hospice Facility                       15\n",
      "Rehabilitation Clinic                  11\n",
      "ICF/Dev. Disabled                       9\n",
      "Alternative Birthing Center             8\n",
      "Chemical Dep. Recovery Hospital         7\n",
      "Name: count, dtype: int64\n"
     ]
    }
   ],
   "source": [
    "for column in columns_of_interest:\n",
    "    print(f'------------{column}------------')\n",
    "    print(df_cleaned[column].value_counts())"
   ]
  }
 ],
 "metadata": {
  "kernelspec": {
   "display_name": "Python 3 (ipykernel)",
   "language": "python",
   "name": "python3"
  },
  "language_info": {
   "codemirror_mode": {
    "name": "ipython",
    "version": 3
   },
   "file_extension": ".py",
   "mimetype": "text/x-python",
   "name": "python",
   "nbconvert_exporter": "python",
   "pygments_lexer": "ipython3",
   "version": "3.11.5"
  }
 },
 "nbformat": 4,
 "nbformat_minor": 5
}
