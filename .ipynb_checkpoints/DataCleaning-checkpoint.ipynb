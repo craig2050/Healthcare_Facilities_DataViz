{
 "cells": [
  {
   "cell_type": "code",
   "execution_count": 1,
   "id": "14c58071-47bf-47a8-af33-0e3d0c419863",
   "metadata": {
    "tags": []
   },
   "outputs": [],
   "source": [
    "import pandas as pd"
   ]
  },
  {
   "cell_type": "code",
   "execution_count": 2,
   "id": "52558bcc-6001-4fde-81b2-c430eb3d8a96",
   "metadata": {
    "tags": []
   },
   "outputs": [],
   "source": [
    "df = pd.read_csv('data/current-healthcare-facility-listing.csv')"
   ]
  },
  {
   "cell_type": "code",
   "execution_count": 3,
   "id": "884d8fcc-1d91-491b-ab0c-abc71515fc3b",
   "metadata": {
    "tags": []
   },
   "outputs": [
    {
     "data": {
      "text/html": [
       "<div>\n",
       "<style scoped>\n",
       "    .dataframe tbody tr th:only-of-type {\n",
       "        vertical-align: middle;\n",
       "    }\n",
       "\n",
       "    .dataframe tbody tr th {\n",
       "        vertical-align: top;\n",
       "    }\n",
       "\n",
       "    .dataframe thead th {\n",
       "        text-align: right;\n",
       "    }\n",
       "</style>\n",
       "<table border=\"1\" class=\"dataframe\">\n",
       "  <thead>\n",
       "    <tr style=\"text-align: right;\">\n",
       "      <th></th>\n",
       "      <th>OSHPD_ID</th>\n",
       "      <th>FACILITY_NAME</th>\n",
       "      <th>LICENSE_NUM</th>\n",
       "      <th>FACILITY_LEVEL_DESC</th>\n",
       "      <th>DBA_ADDRESS1</th>\n",
       "      <th>DBA_CITY</th>\n",
       "      <th>DBA_ZIP_CODE</th>\n",
       "      <th>COUNTY_CODE</th>\n",
       "      <th>COUNTY_NAME</th>\n",
       "      <th>ER_SERVICE_LEVEL_DESC</th>\n",
       "      <th>TOTAL_NUMBER_BEDS</th>\n",
       "      <th>FACILITY_STATUS_DESC</th>\n",
       "      <th>FACILITY_STATUS_DATE</th>\n",
       "      <th>LICENSE_TYPE_DESC</th>\n",
       "      <th>LICENSE_CATEGORY_DESC</th>\n",
       "      <th>LATITUDE</th>\n",
       "      <th>LONGITUDE</th>\n",
       "    </tr>\n",
       "  </thead>\n",
       "  <tbody>\n",
       "    <tr>\n",
       "      <th>0</th>\n",
       "      <td>106010042</td>\n",
       "      <td>JOHN GEORGE PSYCHIATRIC HOSPITAL</td>\n",
       "      <td>140000046</td>\n",
       "      <td>Distinct Part Facility</td>\n",
       "      <td>2060 FAIRMONT DRIVE</td>\n",
       "      <td>SAN LEANDRO</td>\n",
       "      <td>94578</td>\n",
       "      <td>1</td>\n",
       "      <td>Alameda</td>\n",
       "      <td>NaN</td>\n",
       "      <td>80</td>\n",
       "      <td>Open</td>\n",
       "      <td>2022-11-01</td>\n",
       "      <td>Hospital</td>\n",
       "      <td>General Acute Care Hospital</td>\n",
       "      <td>37.710553</td>\n",
       "      <td>-122.120256</td>\n",
       "    </tr>\n",
       "    <tr>\n",
       "      <th>1</th>\n",
       "      <td>106010735</td>\n",
       "      <td>ALAMEDA HOSPITAL</td>\n",
       "      <td>140000002</td>\n",
       "      <td>Parent Facility</td>\n",
       "      <td>2070 CLINTON AVE</td>\n",
       "      <td>ALAMEDA</td>\n",
       "      <td>94501</td>\n",
       "      <td>1</td>\n",
       "      <td>Alameda</td>\n",
       "      <td>Emergency - Basic</td>\n",
       "      <td>101</td>\n",
       "      <td>Open</td>\n",
       "      <td>1946-01-01</td>\n",
       "      <td>Hospital</td>\n",
       "      <td>General Acute Care Hospital</td>\n",
       "      <td>37.762680</td>\n",
       "      <td>-122.254106</td>\n",
       "    </tr>\n",
       "    <tr>\n",
       "      <th>2</th>\n",
       "      <td>106010739</td>\n",
       "      <td>ALTA BATES SUMMIT MEDICAL CENTER-ALTA BATES CA...</td>\n",
       "      <td>140000004</td>\n",
       "      <td>Parent Facility</td>\n",
       "      <td>2450 ASHBY AVENUE</td>\n",
       "      <td>BERKELEY</td>\n",
       "      <td>94705</td>\n",
       "      <td>1</td>\n",
       "      <td>Alameda</td>\n",
       "      <td>Emergency - Basic</td>\n",
       "      <td>339</td>\n",
       "      <td>Open</td>\n",
       "      <td>1946-01-02</td>\n",
       "      <td>Hospital</td>\n",
       "      <td>General Acute Care Hospital</td>\n",
       "      <td>37.855628</td>\n",
       "      <td>-122.257501</td>\n",
       "    </tr>\n",
       "    <tr>\n",
       "      <th>3</th>\n",
       "      <td>106010776</td>\n",
       "      <td>UCSF BENIOFF CHILDREN'S HOSPITAL OAKLAND</td>\n",
       "      <td>140000015</td>\n",
       "      <td>Parent Facility</td>\n",
       "      <td>747 52ND STREET</td>\n",
       "      <td>OAKLAND</td>\n",
       "      <td>94609</td>\n",
       "      <td>1</td>\n",
       "      <td>Alameda</td>\n",
       "      <td>Emergency - Basic</td>\n",
       "      <td>163</td>\n",
       "      <td>Open</td>\n",
       "      <td>1946-01-01</td>\n",
       "      <td>Hospital</td>\n",
       "      <td>General Acute Care Hospital</td>\n",
       "      <td>37.836938</td>\n",
       "      <td>-122.267231</td>\n",
       "    </tr>\n",
       "    <tr>\n",
       "      <th>4</th>\n",
       "      <td>106010811</td>\n",
       "      <td>FAIRMONT HOSPITAL</td>\n",
       "      <td>140000046</td>\n",
       "      <td>Consolidated Facility</td>\n",
       "      <td>15400 FOOTHILL BOULEVARD</td>\n",
       "      <td>SAN LEANDRO</td>\n",
       "      <td>94578</td>\n",
       "      <td>1</td>\n",
       "      <td>Alameda</td>\n",
       "      <td>NaN</td>\n",
       "      <td>109</td>\n",
       "      <td>Open</td>\n",
       "      <td>1953-07-01</td>\n",
       "      <td>Hospital</td>\n",
       "      <td>General Acute Care Hospital</td>\n",
       "      <td>37.708168</td>\n",
       "      <td>-122.119823</td>\n",
       "    </tr>\n",
       "  </tbody>\n",
       "</table>\n",
       "</div>"
      ],
      "text/plain": [
       "    OSHPD_ID                                      FACILITY_NAME LICENSE_NUM  \\\n",
       "0  106010042                   JOHN GEORGE PSYCHIATRIC HOSPITAL   140000046   \n",
       "1  106010735                                   ALAMEDA HOSPITAL   140000002   \n",
       "2  106010739  ALTA BATES SUMMIT MEDICAL CENTER-ALTA BATES CA...   140000004   \n",
       "3  106010776           UCSF BENIOFF CHILDREN'S HOSPITAL OAKLAND   140000015   \n",
       "4  106010811                                  FAIRMONT HOSPITAL   140000046   \n",
       "\n",
       "      FACILITY_LEVEL_DESC              DBA_ADDRESS1     DBA_CITY  \\\n",
       "0  Distinct Part Facility       2060 FAIRMONT DRIVE  SAN LEANDRO   \n",
       "1         Parent Facility          2070 CLINTON AVE      ALAMEDA   \n",
       "2         Parent Facility         2450 ASHBY AVENUE     BERKELEY   \n",
       "3         Parent Facility           747 52ND STREET      OAKLAND   \n",
       "4   Consolidated Facility  15400 FOOTHILL BOULEVARD  SAN LEANDRO   \n",
       "\n",
       "   DBA_ZIP_CODE  COUNTY_CODE COUNTY_NAME ER_SERVICE_LEVEL_DESC  \\\n",
       "0         94578            1     Alameda                   NaN   \n",
       "1         94501            1     Alameda     Emergency - Basic   \n",
       "2         94705            1     Alameda     Emergency - Basic   \n",
       "3         94609            1     Alameda     Emergency - Basic   \n",
       "4         94578            1     Alameda                   NaN   \n",
       "\n",
       "  TOTAL_NUMBER_BEDS FACILITY_STATUS_DESC FACILITY_STATUS_DATE  \\\n",
       "0                80                 Open           2022-11-01   \n",
       "1               101                 Open           1946-01-01   \n",
       "2               339                 Open           1946-01-02   \n",
       "3               163                 Open           1946-01-01   \n",
       "4               109                 Open           1953-07-01   \n",
       "\n",
       "  LICENSE_TYPE_DESC        LICENSE_CATEGORY_DESC   LATITUDE   LONGITUDE  \n",
       "0          Hospital  General Acute Care Hospital  37.710553 -122.120256  \n",
       "1          Hospital  General Acute Care Hospital  37.762680 -122.254106  \n",
       "2          Hospital  General Acute Care Hospital  37.855628 -122.257501  \n",
       "3          Hospital  General Acute Care Hospital  37.836938 -122.267231  \n",
       "4          Hospital  General Acute Care Hospital  37.708168 -122.119823  "
      ]
     },
     "execution_count": 3,
     "metadata": {},
     "output_type": "execute_result"
    }
   ],
   "source": [
    "df.head()"
   ]
  },
  {
   "cell_type": "code",
   "execution_count": 4,
   "id": "14a3a374-2c5e-4b2b-8abc-cc6730b38dd6",
   "metadata": {
    "tags": []
   },
   "outputs": [
    {
     "data": {
      "text/plain": [
       "(10565, 17)"
      ]
     },
     "execution_count": 4,
     "metadata": {},
     "output_type": "execute_result"
    }
   ],
   "source": [
    "df.shape"
   ]
  },
  {
   "cell_type": "code",
   "execution_count": 5,
   "id": "ce80114b-bcdd-4144-9b94-95e81d47bb70",
   "metadata": {
    "tags": []
   },
   "outputs": [],
   "source": [
    "#MISSING DATA"
   ]
  },
  {
   "cell_type": "code",
   "execution_count": null,
   "id": "4c46296b-9485-42ba-85be-604274484f27",
   "metadata": {},
   "outputs": [],
   "source": []
  },
  {
   "cell_type": "code",
   "execution_count": 6,
   "id": "68d34b9d-f6dc-4659-a2f4-301a1eda45fb",
   "metadata": {
    "tags": []
   },
   "outputs": [
    {
     "data": {
      "text/html": [
       "<div>\n",
       "<style scoped>\n",
       "    .dataframe tbody tr th:only-of-type {\n",
       "        vertical-align: middle;\n",
       "    }\n",
       "\n",
       "    .dataframe tbody tr th {\n",
       "        vertical-align: top;\n",
       "    }\n",
       "\n",
       "    .dataframe thead th {\n",
       "        text-align: right;\n",
       "    }\n",
       "</style>\n",
       "<table border=\"1\" class=\"dataframe\">\n",
       "  <thead>\n",
       "    <tr style=\"text-align: right;\">\n",
       "      <th></th>\n",
       "      <th>0</th>\n",
       "      <th>1</th>\n",
       "      <th>2</th>\n",
       "    </tr>\n",
       "  </thead>\n",
       "  <tbody>\n",
       "    <tr>\n",
       "      <th>OSHPD_ID</th>\n",
       "      <td>106010042</td>\n",
       "      <td>106010735</td>\n",
       "      <td>106010739</td>\n",
       "    </tr>\n",
       "    <tr>\n",
       "      <th>FACILITY_NAME</th>\n",
       "      <td>JOHN GEORGE PSYCHIATRIC HOSPITAL</td>\n",
       "      <td>ALAMEDA HOSPITAL</td>\n",
       "      <td>ALTA BATES SUMMIT MEDICAL CENTER-ALTA BATES CA...</td>\n",
       "    </tr>\n",
       "    <tr>\n",
       "      <th>LICENSE_NUM</th>\n",
       "      <td>140000046</td>\n",
       "      <td>140000002</td>\n",
       "      <td>140000004</td>\n",
       "    </tr>\n",
       "    <tr>\n",
       "      <th>FACILITY_LEVEL_DESC</th>\n",
       "      <td>Distinct Part Facility</td>\n",
       "      <td>Parent Facility</td>\n",
       "      <td>Parent Facility</td>\n",
       "    </tr>\n",
       "    <tr>\n",
       "      <th>DBA_ADDRESS1</th>\n",
       "      <td>2060 FAIRMONT DRIVE</td>\n",
       "      <td>2070 CLINTON AVE</td>\n",
       "      <td>2450 ASHBY AVENUE</td>\n",
       "    </tr>\n",
       "    <tr>\n",
       "      <th>DBA_CITY</th>\n",
       "      <td>SAN LEANDRO</td>\n",
       "      <td>ALAMEDA</td>\n",
       "      <td>BERKELEY</td>\n",
       "    </tr>\n",
       "    <tr>\n",
       "      <th>DBA_ZIP_CODE</th>\n",
       "      <td>94578</td>\n",
       "      <td>94501</td>\n",
       "      <td>94705</td>\n",
       "    </tr>\n",
       "    <tr>\n",
       "      <th>COUNTY_CODE</th>\n",
       "      <td>1</td>\n",
       "      <td>1</td>\n",
       "      <td>1</td>\n",
       "    </tr>\n",
       "    <tr>\n",
       "      <th>COUNTY_NAME</th>\n",
       "      <td>Alameda</td>\n",
       "      <td>Alameda</td>\n",
       "      <td>Alameda</td>\n",
       "    </tr>\n",
       "    <tr>\n",
       "      <th>ER_SERVICE_LEVEL_DESC</th>\n",
       "      <td>NaN</td>\n",
       "      <td>Emergency - Basic</td>\n",
       "      <td>Emergency - Basic</td>\n",
       "    </tr>\n",
       "    <tr>\n",
       "      <th>TOTAL_NUMBER_BEDS</th>\n",
       "      <td>80</td>\n",
       "      <td>101</td>\n",
       "      <td>339</td>\n",
       "    </tr>\n",
       "    <tr>\n",
       "      <th>FACILITY_STATUS_DESC</th>\n",
       "      <td>Open</td>\n",
       "      <td>Open</td>\n",
       "      <td>Open</td>\n",
       "    </tr>\n",
       "    <tr>\n",
       "      <th>FACILITY_STATUS_DATE</th>\n",
       "      <td>2022-11-01</td>\n",
       "      <td>1946-01-01</td>\n",
       "      <td>1946-01-02</td>\n",
       "    </tr>\n",
       "    <tr>\n",
       "      <th>LICENSE_TYPE_DESC</th>\n",
       "      <td>Hospital</td>\n",
       "      <td>Hospital</td>\n",
       "      <td>Hospital</td>\n",
       "    </tr>\n",
       "    <tr>\n",
       "      <th>LICENSE_CATEGORY_DESC</th>\n",
       "      <td>General Acute Care Hospital</td>\n",
       "      <td>General Acute Care Hospital</td>\n",
       "      <td>General Acute Care Hospital</td>\n",
       "    </tr>\n",
       "    <tr>\n",
       "      <th>LATITUDE</th>\n",
       "      <td>37.710553</td>\n",
       "      <td>37.76268</td>\n",
       "      <td>37.855628</td>\n",
       "    </tr>\n",
       "    <tr>\n",
       "      <th>LONGITUDE</th>\n",
       "      <td>-122.120256</td>\n",
       "      <td>-122.254106</td>\n",
       "      <td>-122.257501</td>\n",
       "    </tr>\n",
       "  </tbody>\n",
       "</table>\n",
       "</div>"
      ],
      "text/plain": [
       "                                                      0  \\\n",
       "OSHPD_ID                                      106010042   \n",
       "FACILITY_NAME          JOHN GEORGE PSYCHIATRIC HOSPITAL   \n",
       "LICENSE_NUM                                   140000046   \n",
       "FACILITY_LEVEL_DESC              Distinct Part Facility   \n",
       "DBA_ADDRESS1                        2060 FAIRMONT DRIVE   \n",
       "DBA_CITY                                    SAN LEANDRO   \n",
       "DBA_ZIP_CODE                                      94578   \n",
       "COUNTY_CODE                                           1   \n",
       "COUNTY_NAME                                     Alameda   \n",
       "ER_SERVICE_LEVEL_DESC                               NaN   \n",
       "TOTAL_NUMBER_BEDS                                    80   \n",
       "FACILITY_STATUS_DESC                               Open   \n",
       "FACILITY_STATUS_DATE                         2022-11-01   \n",
       "LICENSE_TYPE_DESC                              Hospital   \n",
       "LICENSE_CATEGORY_DESC       General Acute Care Hospital   \n",
       "LATITUDE                                      37.710553   \n",
       "LONGITUDE                                   -122.120256   \n",
       "\n",
       "                                                 1  \\\n",
       "OSHPD_ID                                 106010735   \n",
       "FACILITY_NAME                     ALAMEDA HOSPITAL   \n",
       "LICENSE_NUM                              140000002   \n",
       "FACILITY_LEVEL_DESC                Parent Facility   \n",
       "DBA_ADDRESS1                      2070 CLINTON AVE   \n",
       "DBA_CITY                                   ALAMEDA   \n",
       "DBA_ZIP_CODE                                 94501   \n",
       "COUNTY_CODE                                      1   \n",
       "COUNTY_NAME                                Alameda   \n",
       "ER_SERVICE_LEVEL_DESC            Emergency - Basic   \n",
       "TOTAL_NUMBER_BEDS                              101   \n",
       "FACILITY_STATUS_DESC                          Open   \n",
       "FACILITY_STATUS_DATE                    1946-01-01   \n",
       "LICENSE_TYPE_DESC                         Hospital   \n",
       "LICENSE_CATEGORY_DESC  General Acute Care Hospital   \n",
       "LATITUDE                                  37.76268   \n",
       "LONGITUDE                              -122.254106   \n",
       "\n",
       "                                                                       2  \n",
       "OSHPD_ID                                                       106010739  \n",
       "FACILITY_NAME          ALTA BATES SUMMIT MEDICAL CENTER-ALTA BATES CA...  \n",
       "LICENSE_NUM                                                    140000004  \n",
       "FACILITY_LEVEL_DESC                                      Parent Facility  \n",
       "DBA_ADDRESS1                                           2450 ASHBY AVENUE  \n",
       "DBA_CITY                                                        BERKELEY  \n",
       "DBA_ZIP_CODE                                                       94705  \n",
       "COUNTY_CODE                                                            1  \n",
       "COUNTY_NAME                                                      Alameda  \n",
       "ER_SERVICE_LEVEL_DESC                                  Emergency - Basic  \n",
       "TOTAL_NUMBER_BEDS                                                    339  \n",
       "FACILITY_STATUS_DESC                                                Open  \n",
       "FACILITY_STATUS_DATE                                          1946-01-02  \n",
       "LICENSE_TYPE_DESC                                               Hospital  \n",
       "LICENSE_CATEGORY_DESC                        General Acute Care Hospital  \n",
       "LATITUDE                                                       37.855628  \n",
       "LONGITUDE                                                    -122.257501  "
      ]
     },
     "execution_count": 6,
     "metadata": {},
     "output_type": "execute_result"
    }
   ],
   "source": [
    "df.head(3).T"
   ]
  },
  {
   "cell_type": "code",
   "execution_count": 7,
   "id": "b261a859-bd0d-4d5c-896e-bddfae34b9b7",
   "metadata": {
    "tags": []
   },
   "outputs": [],
   "source": [
    "all_columns = ['OSHPD_ID', 'FACILITY_NAME', 'LICENSE_NUM', 'FACILITY_LEVEL_DESC',\n",
    "       'DBA_ADDRESS1', 'DBA_CITY', 'DBA_ZIP_CODE', 'COUNTY_CODE',\n",
    "       'COUNTY_NAME', 'ER_SERVICE_LEVEL_DESC', 'TOTAL_NUMBER_BEDS',\n",
    "       'FACILITY_STATUS_DESC', 'FACILITY_STATUS_DATE', 'LICENSE_TYPE_DESC',\n",
    "       'LICENSE_CATEGORY_DESC', 'LATITUDE', 'LONGITUDE']"
   ]
  },
  {
   "cell_type": "code",
   "execution_count": null,
   "id": "2a718d14-da16-4ca5-8ecf-006709372c2e",
   "metadata": {},
   "outputs": [],
   "source": []
  },
  {
   "cell_type": "code",
   "execution_count": 8,
   "id": "bcbebb0a-ced8-4e0c-b0fe-bff4a5319351",
   "metadata": {
    "tags": []
   },
   "outputs": [
    {
     "name": "stdout",
     "output_type": "stream",
     "text": [
      "OSHPD_ID -------------------------------->0\n",
      "FACILITY_NAME --------------------------->0\n",
      "LICENSE_NUM ----------------------------->0\n",
      "FACILITY_LEVEL_DESC --------------------->0\n",
      "DBA_ADDRESS1 ---------------------------->0\n",
      "DBA_CITY -------------------------------->0\n",
      "DBA_ZIP_CODE ---------------------------->0\n",
      "COUNTY_CODE ----------------------------->0\n",
      "COUNTY_NAME ----------------------------->0\n",
      "ER_SERVICE_LEVEL_DESC ------------------->122\n",
      "TOTAL_NUMBER_BEDS ----------------------->8662\n",
      "FACILITY_STATUS_DESC -------------------->0\n",
      "FACILITY_STATUS_DATE -------------------->0\n",
      "LICENSE_TYPE_DESC ----------------------->0\n",
      "LICENSE_CATEGORY_DESC ------------------->0\n",
      "LATITUDE -------------------------------->0\n",
      "LONGITUDE ------------------------------->0\n"
     ]
    }
   ],
   "source": [
    "df_missing = df.isnull()*1\n",
    "\n",
    "for column in all_columns:\n",
    "    print(f'{column} {\"-\"*(40 - len(column))}>{df_missing[column].sum()}')\n",
    "    "
   ]
  },
  {
   "cell_type": "code",
   "execution_count": 9,
   "id": "12e97611-b4ee-4a22-8bbe-c2f0757cb14b",
   "metadata": {
    "tags": []
   },
   "outputs": [],
   "source": [
    "# CHECK WHAT IS MISSING"
   ]
  },
  {
   "cell_type": "code",
   "execution_count": 10,
   "id": "755efdc3-48e8-4c4b-979b-4a0f31b5de58",
   "metadata": {
    "tags": []
   },
   "outputs": [
    {
     "data": {
      "text/plain": [
       "0                      NaN\n",
       "1        Emergency - Basic\n",
       "2        Emergency - Basic\n",
       "3        Emergency - Basic\n",
       "4                      NaN\n",
       "               ...        \n",
       "10560       Not Applicable\n",
       "10561       Not Applicable\n",
       "10562       Not Applicable\n",
       "10563       Not Applicable\n",
       "10564       Not Applicable\n",
       "Name: ER_SERVICE_LEVEL_DESC, Length: 10565, dtype: object"
      ]
     },
     "execution_count": 10,
     "metadata": {},
     "output_type": "execute_result"
    }
   ],
   "source": [
    "df.ER_SERVICE_LEVEL_DESC"
   ]
  },
  {
   "cell_type": "code",
   "execution_count": 11,
   "id": "30ec2192-0e37-426c-95bf-2972cc4ea813",
   "metadata": {
    "tags": []
   },
   "outputs": [
    {
     "data": {
      "text/plain": [
       "0        0\n",
       "1        0\n",
       "2        0\n",
       "3        0\n",
       "4        0\n",
       "        ..\n",
       "10560    1\n",
       "10561    1\n",
       "10562    1\n",
       "10563    1\n",
       "10564    1\n",
       "Name: TOTAL_NUMBER_BEDS, Length: 10565, dtype: int64"
      ]
     },
     "execution_count": 11,
     "metadata": {},
     "output_type": "execute_result"
    }
   ],
   "source": [
    "df_missing.TOTAL_NUMBER_BEDS"
   ]
  },
  {
   "cell_type": "code",
   "execution_count": null,
   "id": "8053e6bd-aaa3-428e-b604-e993d1017a80",
   "metadata": {},
   "outputs": [],
   "source": []
  },
  {
   "cell_type": "code",
   "execution_count": 12,
   "id": "f41affad-7a91-41d5-934d-735d55ce36d3",
   "metadata": {
    "tags": []
   },
   "outputs": [],
   "source": [
    "# CHECK WHERE THIS MISSING VALUES COME FROM"
   ]
  },
  {
   "cell_type": "code",
   "execution_count": 13,
   "id": "750cfcf5-28e9-4e61-bc8e-5812e4ed5271",
   "metadata": {
    "tags": []
   },
   "outputs": [],
   "source": [
    "# MISSING ER_SERVICE_LEVEL_DESC"
   ]
  },
  {
   "cell_type": "code",
   "execution_count": 14,
   "id": "b520c982-18f2-4c38-84e0-ad226bb46876",
   "metadata": {
    "tags": []
   },
   "outputs": [
    {
     "data": {
      "text/plain": [
       "ER_SERVICE_LEVEL_DESC\n",
       "Not Applicable               10109\n",
       "Emergency - Basic              295\n",
       "Emergency - Standby             30\n",
       "Emergency - Comprehensive        9\n",
       "Name: count, dtype: int64"
      ]
     },
     "execution_count": 14,
     "metadata": {},
     "output_type": "execute_result"
    }
   ],
   "source": [
    "# These are available and the rest 122 are nan/unkown\n",
    "df.ER_SERVICE_LEVEL_DESC.value_counts()"
   ]
  },
  {
   "cell_type": "code",
   "execution_count": 15,
   "id": "d03dddde-209d-4a1c-9594-fd7e388b37ba",
   "metadata": {
    "tags": []
   },
   "outputs": [
    {
     "data": {
      "text/html": [
       "<div>\n",
       "<style scoped>\n",
       "    .dataframe tbody tr th:only-of-type {\n",
       "        vertical-align: middle;\n",
       "    }\n",
       "\n",
       "    .dataframe tbody tr th {\n",
       "        vertical-align: top;\n",
       "    }\n",
       "\n",
       "    .dataframe thead th {\n",
       "        text-align: right;\n",
       "    }\n",
       "</style>\n",
       "<table border=\"1\" class=\"dataframe\">\n",
       "  <thead>\n",
       "    <tr style=\"text-align: right;\">\n",
       "      <th></th>\n",
       "      <th>OSHPD_ID</th>\n",
       "      <th>FACILITY_NAME</th>\n",
       "      <th>LICENSE_NUM</th>\n",
       "      <th>FACILITY_LEVEL_DESC</th>\n",
       "      <th>DBA_ADDRESS1</th>\n",
       "      <th>DBA_CITY</th>\n",
       "      <th>DBA_ZIP_CODE</th>\n",
       "      <th>COUNTY_CODE</th>\n",
       "      <th>COUNTY_NAME</th>\n",
       "      <th>ER_SERVICE_LEVEL_DESC</th>\n",
       "      <th>TOTAL_NUMBER_BEDS</th>\n",
       "      <th>FACILITY_STATUS_DESC</th>\n",
       "      <th>FACILITY_STATUS_DATE</th>\n",
       "      <th>LICENSE_TYPE_DESC</th>\n",
       "      <th>LICENSE_CATEGORY_DESC</th>\n",
       "      <th>LATITUDE</th>\n",
       "      <th>LONGITUDE</th>\n",
       "    </tr>\n",
       "  </thead>\n",
       "  <tbody>\n",
       "    <tr>\n",
       "      <th>1786</th>\n",
       "      <td>206462284</td>\n",
       "      <td>EASTERN PLUMAS HOSPITAL-LOYALTON CAMPUS D/P SNF</td>\n",
       "      <td>230000014</td>\n",
       "      <td>Distinct Part Facility</td>\n",
       "      <td>700 THIRD ST</td>\n",
       "      <td>LOYALTON</td>\n",
       "      <td>96118</td>\n",
       "      <td>46</td>\n",
       "      <td>Sierra</td>\n",
       "      <td>NaN</td>\n",
       "      <td>39</td>\n",
       "      <td>Open</td>\n",
       "      <td>2012-11-01</td>\n",
       "      <td>Hospital</td>\n",
       "      <td>General Acute Care Hospital</td>\n",
       "      <td>39.680092</td>\n",
       "      <td>-120.244038</td>\n",
       "    </tr>\n",
       "    <tr>\n",
       "      <th>169</th>\n",
       "      <td>106190681</td>\n",
       "      <td>DOCS SURGICAL HOSPITAL</td>\n",
       "      <td>930000143</td>\n",
       "      <td>Parent Facility</td>\n",
       "      <td>6000 SAN VICENTE BOULEVARD</td>\n",
       "      <td>LOS ANGELES</td>\n",
       "      <td>90036</td>\n",
       "      <td>19</td>\n",
       "      <td>Los Angeles</td>\n",
       "      <td>NaN</td>\n",
       "      <td>17</td>\n",
       "      <td>Open</td>\n",
       "      <td>1954-07-08</td>\n",
       "      <td>Hospital</td>\n",
       "      <td>General Acute Care Hospital</td>\n",
       "      <td>34.057310</td>\n",
       "      <td>-118.362311</td>\n",
       "    </tr>\n",
       "    <tr>\n",
       "      <th>695</th>\n",
       "      <td>206130764</td>\n",
       "      <td>PIONEERS MEMORIAL SKILLED NURSING CENTER</td>\n",
       "      <td>090000087</td>\n",
       "      <td>Distinct Part Facility</td>\n",
       "      <td>320 CATTLE CALL DRIVE</td>\n",
       "      <td>BRAWLEY</td>\n",
       "      <td>92227</td>\n",
       "      <td>13</td>\n",
       "      <td>Imperial</td>\n",
       "      <td>NaN</td>\n",
       "      <td>99</td>\n",
       "      <td>Open</td>\n",
       "      <td>2023-04-01</td>\n",
       "      <td>Hospital</td>\n",
       "      <td>General Acute Care Hospital</td>\n",
       "      <td>32.970454</td>\n",
       "      <td>-115.546181</td>\n",
       "    </tr>\n",
       "    <tr>\n",
       "      <th>10</th>\n",
       "      <td>106010983</td>\n",
       "      <td>STANFORD HEALTH CARE TRI-VALLEY</td>\n",
       "      <td>140000114</td>\n",
       "      <td>Consolidated Facility</td>\n",
       "      <td>1111 E. STANLEY BOULEVARD</td>\n",
       "      <td>LIVERMORE</td>\n",
       "      <td>94550</td>\n",
       "      <td>1</td>\n",
       "      <td>Alameda</td>\n",
       "      <td>NaN</td>\n",
       "      <td>75</td>\n",
       "      <td>Open</td>\n",
       "      <td>1969-10-19</td>\n",
       "      <td>Hospital</td>\n",
       "      <td>General Acute Care Hospital</td>\n",
       "      <td>37.677353</td>\n",
       "      <td>-121.781959</td>\n",
       "    </tr>\n",
       "    <tr>\n",
       "      <th>106</th>\n",
       "      <td>106190155</td>\n",
       "      <td>CALIFORNIA REHABILITATION INSTITUTE, LLC</td>\n",
       "      <td>930000029</td>\n",
       "      <td>Parent Facility</td>\n",
       "      <td>2070 CENTURY PARK EAST</td>\n",
       "      <td>LOS ANGELES</td>\n",
       "      <td>90067</td>\n",
       "      <td>19</td>\n",
       "      <td>Los Angeles</td>\n",
       "      <td>NaN</td>\n",
       "      <td>138</td>\n",
       "      <td>Open</td>\n",
       "      <td>2016-07-19</td>\n",
       "      <td>Hospital</td>\n",
       "      <td>General Acute Care Hospital</td>\n",
       "      <td>34.059117</td>\n",
       "      <td>-118.411883</td>\n",
       "    </tr>\n",
       "  </tbody>\n",
       "</table>\n",
       "</div>"
      ],
      "text/plain": [
       "       OSHPD_ID                                    FACILITY_NAME LICENSE_NUM  \\\n",
       "1786  206462284  EASTERN PLUMAS HOSPITAL-LOYALTON CAMPUS D/P SNF   230000014   \n",
       "169   106190681                           DOCS SURGICAL HOSPITAL   930000143   \n",
       "695   206130764         PIONEERS MEMORIAL SKILLED NURSING CENTER   090000087   \n",
       "10    106010983                  STANFORD HEALTH CARE TRI-VALLEY   140000114   \n",
       "106   106190155         CALIFORNIA REHABILITATION INSTITUTE, LLC   930000029   \n",
       "\n",
       "         FACILITY_LEVEL_DESC                DBA_ADDRESS1     DBA_CITY  \\\n",
       "1786  Distinct Part Facility                700 THIRD ST     LOYALTON   \n",
       "169          Parent Facility  6000 SAN VICENTE BOULEVARD  LOS ANGELES   \n",
       "695   Distinct Part Facility       320 CATTLE CALL DRIVE      BRAWLEY   \n",
       "10     Consolidated Facility   1111 E. STANLEY BOULEVARD    LIVERMORE   \n",
       "106          Parent Facility      2070 CENTURY PARK EAST  LOS ANGELES   \n",
       "\n",
       "      DBA_ZIP_CODE  COUNTY_CODE  COUNTY_NAME ER_SERVICE_LEVEL_DESC  \\\n",
       "1786         96118           46       Sierra                   NaN   \n",
       "169          90036           19  Los Angeles                   NaN   \n",
       "695          92227           13     Imperial                   NaN   \n",
       "10           94550            1      Alameda                   NaN   \n",
       "106          90067           19  Los Angeles                   NaN   \n",
       "\n",
       "     TOTAL_NUMBER_BEDS FACILITY_STATUS_DESC FACILITY_STATUS_DATE  \\\n",
       "1786                39                 Open           2012-11-01   \n",
       "169                 17                 Open           1954-07-08   \n",
       "695                 99                 Open           2023-04-01   \n",
       "10                  75                 Open           1969-10-19   \n",
       "106                138                 Open           2016-07-19   \n",
       "\n",
       "     LICENSE_TYPE_DESC        LICENSE_CATEGORY_DESC   LATITUDE   LONGITUDE  \n",
       "1786          Hospital  General Acute Care Hospital  39.680092 -120.244038  \n",
       "169           Hospital  General Acute Care Hospital  34.057310 -118.362311  \n",
       "695           Hospital  General Acute Care Hospital  32.970454 -115.546181  \n",
       "10            Hospital  General Acute Care Hospital  37.677353 -121.781959  \n",
       "106           Hospital  General Acute Care Hospital  34.059117 -118.411883  "
      ]
     },
     "execution_count": 15,
     "metadata": {},
     "output_type": "execute_result"
    }
   ],
   "source": [
    "df[df_missing['ER_SERVICE_LEVEL_DESC'] == 1].sample(5)"
   ]
  },
  {
   "cell_type": "code",
   "execution_count": 16,
   "id": "27e7c2e2-ba29-4e3e-88d9-f8a0764bcc3d",
   "metadata": {
    "tags": []
   },
   "outputs": [],
   "source": [
    "# 🔬\n",
    "# I haved decided to not go ahead with using the attribute:ER_SERVICE_LEVEL_DESC because majority of values are \"not_available\"\\\n",
    "# even if I am able to impute these,the overall effect would not be positive."
   ]
  },
  {
   "cell_type": "code",
   "execution_count": null,
   "id": "6b947d15-c862-4365-bae2-30caacd71444",
   "metadata": {},
   "outputs": [],
   "source": []
  },
  {
   "cell_type": "code",
   "execution_count": 17,
   "id": "288ac250-09ce-494b-b5dc-908b74dd4db0",
   "metadata": {},
   "outputs": [],
   "source": [
    "# MISSING TOTAL_NUMBER_BEDS"
   ]
  },
  {
   "cell_type": "code",
   "execution_count": 18,
   "id": "e5927dbe-725f-48f4-9730-eb9fbd491227",
   "metadata": {
    "tags": []
   },
   "outputs": [
    {
     "data": {
      "text/plain": [
       "count     1903\n",
       "unique     346\n",
       "top          6\n",
       "freq       222\n",
       "Name: TOTAL_NUMBER_BEDS, dtype: object"
      ]
     },
     "execution_count": 18,
     "metadata": {},
     "output_type": "execute_result"
    }
   ],
   "source": [
    "# Seams link only 1903 hospitals have values from a total of 10552 hospitals in the dataset.\n",
    "df.TOTAL_NUMBER_BEDS.describe()"
   ]
  },
  {
   "cell_type": "code",
   "execution_count": 19,
   "id": "3ac52266-40a8-47e8-9a73-6424004cd953",
   "metadata": {
    "tags": []
   },
   "outputs": [],
   "source": [
    "# 🔬\n",
    "# I haved decided to not go ahead with using the attribute:TOTAL_NUMBER_BEDS because majority of values are \"not_available\"\\"
   ]
  },
  {
   "cell_type": "code",
   "execution_count": 20,
   "id": "6a2eb0ae-a40e-4a8c-953f-954956f6b99e",
   "metadata": {
    "tags": []
   },
   "outputs": [],
   "source": [
    "df_missing_resolved = df.dropna(subset=['ER_SERVICE_LEVEL_DESC','TOTAL_NUMBER_BEDS'])"
   ]
  },
  {
   "cell_type": "code",
   "execution_count": 21,
   "id": "1ee4f491-afd7-418b-8631-7799c73e5fe8",
   "metadata": {
    "tags": []
   },
   "outputs": [
    {
     "data": {
      "text/html": [
       "<div>\n",
       "<style scoped>\n",
       "    .dataframe tbody tr th:only-of-type {\n",
       "        vertical-align: middle;\n",
       "    }\n",
       "\n",
       "    .dataframe tbody tr th {\n",
       "        vertical-align: top;\n",
       "    }\n",
       "\n",
       "    .dataframe thead th {\n",
       "        text-align: right;\n",
       "    }\n",
       "</style>\n",
       "<table border=\"1\" class=\"dataframe\">\n",
       "  <thead>\n",
       "    <tr style=\"text-align: right;\">\n",
       "      <th></th>\n",
       "      <th>OSHPD_ID</th>\n",
       "      <th>FACILITY_NAME</th>\n",
       "      <th>LICENSE_NUM</th>\n",
       "      <th>FACILITY_LEVEL_DESC</th>\n",
       "      <th>DBA_ADDRESS1</th>\n",
       "      <th>DBA_CITY</th>\n",
       "      <th>DBA_ZIP_CODE</th>\n",
       "      <th>COUNTY_CODE</th>\n",
       "      <th>COUNTY_NAME</th>\n",
       "      <th>ER_SERVICE_LEVEL_DESC</th>\n",
       "      <th>TOTAL_NUMBER_BEDS</th>\n",
       "      <th>FACILITY_STATUS_DESC</th>\n",
       "      <th>FACILITY_STATUS_DATE</th>\n",
       "      <th>LICENSE_TYPE_DESC</th>\n",
       "      <th>LICENSE_CATEGORY_DESC</th>\n",
       "      <th>LATITUDE</th>\n",
       "      <th>LONGITUDE</th>\n",
       "    </tr>\n",
       "  </thead>\n",
       "  <tbody>\n",
       "    <tr>\n",
       "      <th>1</th>\n",
       "      <td>106010735</td>\n",
       "      <td>ALAMEDA HOSPITAL</td>\n",
       "      <td>140000002</td>\n",
       "      <td>Parent Facility</td>\n",
       "      <td>2070 CLINTON AVE</td>\n",
       "      <td>ALAMEDA</td>\n",
       "      <td>94501</td>\n",
       "      <td>1</td>\n",
       "      <td>Alameda</td>\n",
       "      <td>Emergency - Basic</td>\n",
       "      <td>101</td>\n",
       "      <td>Open</td>\n",
       "      <td>1946-01-01</td>\n",
       "      <td>Hospital</td>\n",
       "      <td>General Acute Care Hospital</td>\n",
       "      <td>37.762680</td>\n",
       "      <td>-122.254106</td>\n",
       "    </tr>\n",
       "    <tr>\n",
       "      <th>2</th>\n",
       "      <td>106010739</td>\n",
       "      <td>ALTA BATES SUMMIT MEDICAL CENTER-ALTA BATES CA...</td>\n",
       "      <td>140000004</td>\n",
       "      <td>Parent Facility</td>\n",
       "      <td>2450 ASHBY AVENUE</td>\n",
       "      <td>BERKELEY</td>\n",
       "      <td>94705</td>\n",
       "      <td>1</td>\n",
       "      <td>Alameda</td>\n",
       "      <td>Emergency - Basic</td>\n",
       "      <td>339</td>\n",
       "      <td>Open</td>\n",
       "      <td>1946-01-02</td>\n",
       "      <td>Hospital</td>\n",
       "      <td>General Acute Care Hospital</td>\n",
       "      <td>37.855628</td>\n",
       "      <td>-122.257501</td>\n",
       "    </tr>\n",
       "  </tbody>\n",
       "</table>\n",
       "</div>"
      ],
      "text/plain": [
       "    OSHPD_ID                                      FACILITY_NAME LICENSE_NUM  \\\n",
       "1  106010735                                   ALAMEDA HOSPITAL   140000002   \n",
       "2  106010739  ALTA BATES SUMMIT MEDICAL CENTER-ALTA BATES CA...   140000004   \n",
       "\n",
       "  FACILITY_LEVEL_DESC       DBA_ADDRESS1  DBA_CITY  DBA_ZIP_CODE  COUNTY_CODE  \\\n",
       "1     Parent Facility   2070 CLINTON AVE   ALAMEDA         94501            1   \n",
       "2     Parent Facility  2450 ASHBY AVENUE  BERKELEY         94705            1   \n",
       "\n",
       "  COUNTY_NAME ER_SERVICE_LEVEL_DESC TOTAL_NUMBER_BEDS FACILITY_STATUS_DESC  \\\n",
       "1     Alameda     Emergency - Basic               101                 Open   \n",
       "2     Alameda     Emergency - Basic               339                 Open   \n",
       "\n",
       "  FACILITY_STATUS_DATE LICENSE_TYPE_DESC        LICENSE_CATEGORY_DESC  \\\n",
       "1           1946-01-01          Hospital  General Acute Care Hospital   \n",
       "2           1946-01-02          Hospital  General Acute Care Hospital   \n",
       "\n",
       "    LATITUDE   LONGITUDE  \n",
       "1  37.762680 -122.254106  \n",
       "2  37.855628 -122.257501  "
      ]
     },
     "execution_count": 21,
     "metadata": {},
     "output_type": "execute_result"
    }
   ],
   "source": [
    "df_missing_resolved.head(2)"
   ]
  },
  {
   "cell_type": "code",
   "execution_count": null,
   "id": "bbd2d434-5eb2-4dfa-b3e6-43e43e8d163b",
   "metadata": {},
   "outputs": [],
   "source": []
  },
  {
   "cell_type": "code",
   "execution_count": 27,
   "id": "e3389085-0d08-4534-b753-de8e5b9dacbd",
   "metadata": {
    "tags": []
   },
   "outputs": [],
   "source": [
    "df_missing_resolved.to_csv('data/current-healthcare-facility-listing_cleaned.csv')"
   ]
  },
  {
   "cell_type": "code",
   "execution_count": null,
   "id": "8b76eaa4-1e18-4e2b-a934-aa7ff231b793",
   "metadata": {},
   "outputs": [],
   "source": []
  }
 ],
 "metadata": {
  "kernelspec": {
   "display_name": "Python 3 (ipykernel)",
   "language": "python",
   "name": "python3"
  },
  "language_info": {
   "codemirror_mode": {
    "name": "ipython",
    "version": 3
   },
   "file_extension": ".py",
   "mimetype": "text/x-python",
   "name": "python",
   "nbconvert_exporter": "python",
   "pygments_lexer": "ipython3",
   "version": "3.11.5"
  }
 },
 "nbformat": 4,
 "nbformat_minor": 5
}
